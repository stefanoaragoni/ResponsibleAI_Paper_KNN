{
 "cells": [
  {
   "cell_type": "markdown",
   "metadata": {},
   "source": [
    "## ***Responsible AI - 2024***\n",
    "### *Paper - KNN*"
   ]
  },
  {
   "cell_type": "markdown",
   "metadata": {},
   "source": [
    "--------------------\n",
    "\n",
    "### **KNN - Clasificación**\n",
    "\n",
    "A continuación se presenta la implementación del algoritmo KNN para clasificación. En este caso, se utiliza un dataset sencillo para mostrar el funcionamiento del algoritmo."
   ]
  },
  {
   "cell_type": "code",
   "execution_count": 11,
   "metadata": {},
   "outputs": [
    {
     "name": "stdout",
     "output_type": "stream",
     "text": [
      "Clase del nuevo punto: A\n"
     ]
    }
   ],
   "source": [
    "import numpy as np\n",
    "from sklearn.neighbors import KNeighborsClassifier\n",
    "\n",
    "# Datos de entrenamiento\n",
    "X_train = np.array([[2, 3], [3, 4], [7, 7], [7, 8]])\n",
    "y_train = np.array(['A', 'A', 'B', 'B'])\n",
    "\n",
    "# Crear el clasificador KNN\n",
    "k = 3\n",
    "knn = KNeighborsClassifier(n_neighbors=k)\n",
    "\n",
    "# Entrenar el clasificador\n",
    "knn.fit(X_train, y_train)\n",
    "\n",
    "# Clasificar un nuevo punto\n",
    "nuevo_punto = np.array([[5, 5]])\n",
    "prediccion = knn.predict(nuevo_punto)\n",
    "print(f'Clase del nuevo punto: {prediccion[0]}')\n"
   ]
  },
  {
   "cell_type": "code",
   "execution_count": null,
   "metadata": {},
   "outputs": [],
   "source": []
  },
  {
   "cell_type": "markdown",
   "metadata": {},
   "source": [
    "--------------------\n",
    "\n",
    "### **KNN - Regresión**\n",
    "\n",
    "Con el fin de mostrar la versatilidad del algoritmo KNN, se presenta una implementación para regresión. Nuevamente, se utiliza un dataset sencillo para mostrar el funcionamiento del algoritmo."
   ]
  },
  {
   "cell_type": "code",
   "execution_count": 12,
   "metadata": {},
   "outputs": [
    {
     "name": "stdout",
     "output_type": "stream",
     "text": [
      "Valor predicho para el nuevo punto: 2.6666666666666665\n"
     ]
    }
   ],
   "source": [
    "import numpy as np\n",
    "from sklearn.neighbors import KNeighborsRegressor\n",
    "\n",
    "# Datos de entrenamiento\n",
    "X_train = np.array([[2, 3], [3, 4], [7, 7], [7, 8]])\n",
    "y_train = np.array([2.0, 2.5, 3.5, 4.0])\n",
    "\n",
    "# Crear el regressor KNN\n",
    "k = 3\n",
    "knn = KNeighborsRegressor(n_neighbors=k)\n",
    "\n",
    "# Entrenar el regressor\n",
    "knn.fit(X_train, y_train)\n",
    "\n",
    "# Predecir el valor para un nuevo punto\n",
    "nuevo_punto = np.array([[2.5, 3.5]])\n",
    "prediccion = knn.predict(nuevo_punto)\n",
    "print(f'Valor predicho para el nuevo punto: {prediccion[0]}')"
   ]
  }
 ],
 "metadata": {
  "kernelspec": {
   "display_name": "Python 3",
   "language": "python",
   "name": "python3"
  },
  "language_info": {
   "codemirror_mode": {
    "name": "ipython",
    "version": 3
   },
   "file_extension": ".py",
   "mimetype": "text/x-python",
   "name": "python",
   "nbconvert_exporter": "python",
   "pygments_lexer": "ipython3",
   "version": "3.9.2"
  }
 },
 "nbformat": 4,
 "nbformat_minor": 2
}
